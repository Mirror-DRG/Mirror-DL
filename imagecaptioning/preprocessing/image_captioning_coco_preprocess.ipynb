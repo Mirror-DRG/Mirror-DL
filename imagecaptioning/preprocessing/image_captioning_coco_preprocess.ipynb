{
 "cells": [
  {
   "cell_type": "code",
   "execution_count": 2,
   "id": "d54771b3",
   "metadata": {},
   "outputs": [
    {
     "name": "stderr",
     "output_type": "stream",
     "text": [
      "[nltk_data] Downloading package punkt to /Users/shin-\n",
      "[nltk_data]     ahreum/nltk_data...\n",
      "[nltk_data]   Package punkt is already up-to-date!\n"
     ]
    }
   ],
   "source": [
    "%matplotlib inline\n",
    "from pycocotools.coco import COCO\n",
    "\n",
    "import pandas as pd\n",
    "\n",
    "# 단어사전 생성\n",
    "from collections import Counter\n",
    "import string\n",
    "import re\n",
    "import nltk\n",
    "nltk.download('punkt')\n",
    "import pickle\n",
    "\n",
    "# torch\n",
    "import torchvision\n",
    "import torch\n",
    "import torch.nn as nn\n",
    "import torchvision.models as models\n",
    "from torch.nn.utils.rnn import pack_padded_sequence\n",
    "import torch.optim as optim\n",
    "import torch.utils.data as data\n",
    "\n",
    "# 시각화\n",
    "import seaborn as sns\n",
    "\n",
    "import numpy as np\n",
    "import random\n",
    "import skimage.io as io\n",
    "\n",
    "import matplotlib\n",
    "import matplotlib.pyplot as plt\n",
    "from matplotlib.patches import Polygon\n",
    "from matplotlib.collections import PatchCollection"
   ]
  },
  {
   "cell_type": "markdown",
   "id": "440fe341",
   "metadata": {},
   "source": [
    "## coco API 초기화"
   ]
  },
  {
   "cell_type": "code",
   "execution_count": 3,
   "id": "045043fa",
   "metadata": {},
   "outputs": [
    {
     "name": "stdout",
     "output_type": "stream",
     "text": [
      "loading annotations into memory...\n",
      "Done (t=6.30s)\n",
      "creating index...\n",
      "index created!\n",
      "loading annotations into memory...\n",
      "Done (t=0.34s)\n",
      "creating index...\n",
      "index created!\n"
     ]
    }
   ],
   "source": [
    "#data_dir='/Users/shin-ahreum/Documents/graduation_project/code/Mirror-DL/rawdataset/coco'\n",
    "data_dir='../rawdataset/coco'\n",
    "data_type='train2017'\n",
    "\n",
    "# annotation 파일 위치\n",
    "ann_file='{}/annotations/instances_{}.json'.format(data_dir, data_type)\n",
    "coco = COCO(ann_file)           # pycocotools의 coco api 사용하여 annotation 가져오기\n",
    "\n",
    "# caption 파일 위치\n",
    "cap_file='{}/annotations/captions_{}.json'.format(data_dir, data_type)\n",
    "coco_caps = COCO(cap_file)      # pycocotools의 coco api 사용하여 caption 가져오기\n",
    "\n",
    "# 로컬 이미지 저장 경로\n",
    "img_folder='{}/{}'.format(data_dir, data_type)"
   ]
  },
  {
   "cell_type": "markdown",
   "id": "22f02465",
   "metadata": {},
   "source": [
    "## 사용 가능 데이터 분리\n",
    "\n",
    "사용 가능한 이미지 분리해서 필요한 캡션id, 이미지id, 이미지 이름, 캡션 데이터 가져오기"
   ]
  },
  {
   "cell_type": "code",
   "execution_count": 4,
   "id": "41b6ddc1",
   "metadata": {},
   "outputs": [
    {
     "name": "stdout",
     "output_type": "stream",
     "text": [
      "전체 이미지 개수 : 118287\n",
      "사용가능 이미지 개수 : 117266\n",
      "사용불가 이미지 개수 : 1021\n"
     ]
    }
   ],
   "source": [
    "all_image_ids = coco.getImgIds()\n",
    "img_ids = [] # 사용할 데이터들 id\n",
    "no_anno_ids = [] # 사용하지 않을 데이터들 id\n",
    "\n",
    "for idx in all_image_ids:\n",
    "    annotations_ids = coco.getAnnIds(imgIds=idx, iscrowd=False)\n",
    "    if len(annotations_ids) == 0 :\n",
    "        no_anno_ids.append(idx)\n",
    "    else :\n",
    "        img_ids.append(idx)\n",
    "        \n",
    "print('전체 이미지 개수 : {}'.format(len(all_image_ids)))\n",
    "print('사용가능 이미지 개수 : {}'.format(len(img_ids)))\n",
    "print('사용불가 이미지 개수 : {}'.format(len(no_anno_ids)))"
   ]
  },
  {
   "cell_type": "code",
   "execution_count": 7,
   "id": "8b2fa134",
   "metadata": {},
   "outputs": [],
   "source": [
    "image_ids = []\n",
    "file_names = []\n",
    "ids = []\n",
    "captions = []\n",
    "\n",
    "for i in range(len(img_ids)) :\n",
    "    ann_ids = coco_caps.getAnnIds(imgIds = img_ids[i])\n",
    "    anns = coco_caps.loadAnns(ann_ids)\n",
    "    \n",
    "    file_name = coco.loadImgs(img_ids[i])[0]['file_name']\n",
    "    \n",
    "    for j in range(len(anns)) :\n",
    "        image_ids.append(anns[j]['image_id'])\n",
    "        file_names.append(file_name)\n",
    "        ids.append(anns[j]['id'])\n",
    "        captions.append(anns[j]['caption'])"
   ]
  },
  {
   "cell_type": "code",
   "execution_count": 8,
   "id": "5efc559b",
   "metadata": {},
   "outputs": [
    {
     "data": {
      "text/html": [
       "<div>\n",
       "<style scoped>\n",
       "    .dataframe tbody tr th:only-of-type {\n",
       "        vertical-align: middle;\n",
       "    }\n",
       "\n",
       "    .dataframe tbody tr th {\n",
       "        vertical-align: top;\n",
       "    }\n",
       "\n",
       "    .dataframe thead th {\n",
       "        text-align: right;\n",
       "    }\n",
       "</style>\n",
       "<table border=\"1\" class=\"dataframe\">\n",
       "  <thead>\n",
       "    <tr style=\"text-align: right;\">\n",
       "      <th></th>\n",
       "      <th>image_id</th>\n",
       "      <th>file_name</th>\n",
       "      <th>caption</th>\n",
       "    </tr>\n",
       "  </thead>\n",
       "  <tbody>\n",
       "    <tr>\n",
       "      <th>770337</th>\n",
       "      <td>391895</td>\n",
       "      <td>000000391895.jpg</td>\n",
       "      <td>A man with a red helmet on a small moped on a ...</td>\n",
       "    </tr>\n",
       "    <tr>\n",
       "      <th>771687</th>\n",
       "      <td>391895</td>\n",
       "      <td>000000391895.jpg</td>\n",
       "      <td>Man riding a motor bike on a dirt road on the ...</td>\n",
       "    </tr>\n",
       "    <tr>\n",
       "      <th>772707</th>\n",
       "      <td>391895</td>\n",
       "      <td>000000391895.jpg</td>\n",
       "      <td>A man riding on the back of a motorcycle.</td>\n",
       "    </tr>\n",
       "    <tr>\n",
       "      <th>776154</th>\n",
       "      <td>391895</td>\n",
       "      <td>000000391895.jpg</td>\n",
       "      <td>A dirt path with a young person on a motor bik...</td>\n",
       "    </tr>\n",
       "    <tr>\n",
       "      <th>781998</th>\n",
       "      <td>391895</td>\n",
       "      <td>000000391895.jpg</td>\n",
       "      <td>A man in a red shirt and a red hat is on a mot...</td>\n",
       "    </tr>\n",
       "    <tr>\n",
       "      <th>...</th>\n",
       "      <td>...</td>\n",
       "      <td>...</td>\n",
       "      <td>...</td>\n",
       "    </tr>\n",
       "    <tr>\n",
       "      <th>283</th>\n",
       "      <td>475546</td>\n",
       "      <td>000000475546.jpg</td>\n",
       "      <td>The patrons enjoy their beverages at the bar.</td>\n",
       "    </tr>\n",
       "    <tr>\n",
       "      <th>5620</th>\n",
       "      <td>475546</td>\n",
       "      <td>000000475546.jpg</td>\n",
       "      <td>People having a drink in a basement bar.</td>\n",
       "    </tr>\n",
       "    <tr>\n",
       "      <th>5716</th>\n",
       "      <td>475546</td>\n",
       "      <td>000000475546.jpg</td>\n",
       "      <td>A group of friends enjoys a drink while sittin...</td>\n",
       "    </tr>\n",
       "    <tr>\n",
       "      <th>8002</th>\n",
       "      <td>475546</td>\n",
       "      <td>000000475546.jpg</td>\n",
       "      <td>Group of people drinking wine at a public loca...</td>\n",
       "    </tr>\n",
       "    <tr>\n",
       "      <th>9277</th>\n",
       "      <td>475546</td>\n",
       "      <td>000000475546.jpg</td>\n",
       "      <td>Three women and a man are sitting at a bar</td>\n",
       "    </tr>\n",
       "  </tbody>\n",
       "</table>\n",
       "<p>586646 rows × 3 columns</p>\n",
       "</div>"
      ],
      "text/plain": [
       "        image_id         file_name  \\\n",
       "770337    391895  000000391895.jpg   \n",
       "771687    391895  000000391895.jpg   \n",
       "772707    391895  000000391895.jpg   \n",
       "776154    391895  000000391895.jpg   \n",
       "781998    391895  000000391895.jpg   \n",
       "...          ...               ...   \n",
       "283       475546  000000475546.jpg   \n",
       "5620      475546  000000475546.jpg   \n",
       "5716      475546  000000475546.jpg   \n",
       "8002      475546  000000475546.jpg   \n",
       "9277      475546  000000475546.jpg   \n",
       "\n",
       "                                                  caption  \n",
       "770337  A man with a red helmet on a small moped on a ...  \n",
       "771687  Man riding a motor bike on a dirt road on the ...  \n",
       "772707          A man riding on the back of a motorcycle.  \n",
       "776154  A dirt path with a young person on a motor bik...  \n",
       "781998  A man in a red shirt and a red hat is on a mot...  \n",
       "...                                                   ...  \n",
       "283         The patrons enjoy their beverages at the bar.  \n",
       "5620             People having a drink in a basement bar.  \n",
       "5716    A group of friends enjoys a drink while sittin...  \n",
       "8002    Group of people drinking wine at a public loca...  \n",
       "9277           Three women and a man are sitting at a bar  \n",
       "\n",
       "[586646 rows x 3 columns]"
      ]
     },
     "execution_count": 8,
     "metadata": {},
     "output_type": "execute_result"
    }
   ],
   "source": [
    "df = pd.DataFrame({'image_id':image_ids, 'file_name':file_names, 'caption':captions},\n",
    "                          index = pd.Index(ids), columns = ['image_id','file_name','caption'])\n",
    "df"
   ]
  },
  {
   "cell_type": "code",
   "execution_count": 9,
   "id": "f1806116",
   "metadata": {},
   "outputs": [
    {
     "name": "stdout",
     "output_type": "stream",
     "text": [
      "The List is Unique!\n"
     ]
    },
    {
     "data": {
      "text/plain": [
       "True"
      ]
     },
     "execution_count": 9,
     "metadata": {},
     "output_type": "execute_result"
    }
   ],
   "source": [
    "def unique(l):\n",
    "    if len(l)==len(set(l)):\n",
    "        print(\"The List is Unique!\")\n",
    "        return True\n",
    "    else:\n",
    "        print(\"The List is Not Unique!\")\n",
    "        return False\n",
    "\n",
    "unique(ids)"
   ]
  },
  {
   "cell_type": "markdown",
   "id": "3c3e0919",
   "metadata": {},
   "source": [
    "## 단어 임베딩 및 사전 구축"
   ]
  },
  {
   "cell_type": "markdown",
   "id": "586b17fc",
   "metadata": {},
   "source": [
    "### 캡션 문장 소문자화 및 특수문자 제거"
   ]
  },
  {
   "cell_type": "code",
   "execution_count": 10,
   "id": "705d7513",
   "metadata": {},
   "outputs": [],
   "source": [
    "regex = re.compile('[%s]' % re.escape(string.punctuation))\n",
    "\n",
    "def clean_text(text):\n",
    "    text = str(text).strip()\n",
    "    text = text.lower()\n",
    "    return regex.sub(\"\", text)\n",
    "\n",
    "df['caption'] = df['caption'].apply(clean_text)\n",
    "df['length'] = df['caption'].apply(lambda row: len(row.strip().split()))"
   ]
  },
  {
   "cell_type": "code",
   "execution_count": 11,
   "id": "ee8a478d",
   "metadata": {},
   "outputs": [
    {
     "data": {
      "text/html": [
       "<div>\n",
       "<style scoped>\n",
       "    .dataframe tbody tr th:only-of-type {\n",
       "        vertical-align: middle;\n",
       "    }\n",
       "\n",
       "    .dataframe tbody tr th {\n",
       "        vertical-align: top;\n",
       "    }\n",
       "\n",
       "    .dataframe thead th {\n",
       "        text-align: right;\n",
       "    }\n",
       "</style>\n",
       "<table border=\"1\" class=\"dataframe\">\n",
       "  <thead>\n",
       "    <tr style=\"text-align: right;\">\n",
       "      <th></th>\n",
       "      <th>image_id</th>\n",
       "      <th>file_name</th>\n",
       "      <th>caption</th>\n",
       "      <th>length</th>\n",
       "    </tr>\n",
       "  </thead>\n",
       "  <tbody>\n",
       "    <tr>\n",
       "      <th>770337</th>\n",
       "      <td>391895</td>\n",
       "      <td>000000391895.jpg</td>\n",
       "      <td>a man with a red helmet on a small moped on a ...</td>\n",
       "      <td>14</td>\n",
       "    </tr>\n",
       "    <tr>\n",
       "      <th>771687</th>\n",
       "      <td>391895</td>\n",
       "      <td>000000391895.jpg</td>\n",
       "      <td>man riding a motor bike on a dirt road on the ...</td>\n",
       "      <td>12</td>\n",
       "    </tr>\n",
       "    <tr>\n",
       "      <th>772707</th>\n",
       "      <td>391895</td>\n",
       "      <td>000000391895.jpg</td>\n",
       "      <td>a man riding on the back of a motorcycle</td>\n",
       "      <td>9</td>\n",
       "    </tr>\n",
       "    <tr>\n",
       "      <th>776154</th>\n",
       "      <td>391895</td>\n",
       "      <td>000000391895.jpg</td>\n",
       "      <td>a dirt path with a young person on a motor bik...</td>\n",
       "      <td>28</td>\n",
       "    </tr>\n",
       "    <tr>\n",
       "      <th>781998</th>\n",
       "      <td>391895</td>\n",
       "      <td>000000391895.jpg</td>\n",
       "      <td>a man in a red shirt and a red hat is on a mot...</td>\n",
       "      <td>18</td>\n",
       "    </tr>\n",
       "  </tbody>\n",
       "</table>\n",
       "</div>"
      ],
      "text/plain": [
       "        image_id         file_name  \\\n",
       "770337    391895  000000391895.jpg   \n",
       "771687    391895  000000391895.jpg   \n",
       "772707    391895  000000391895.jpg   \n",
       "776154    391895  000000391895.jpg   \n",
       "781998    391895  000000391895.jpg   \n",
       "\n",
       "                                                  caption  length  \n",
       "770337  a man with a red helmet on a small moped on a ...      14  \n",
       "771687  man riding a motor bike on a dirt road on the ...      12  \n",
       "772707           a man riding on the back of a motorcycle       9  \n",
       "776154  a dirt path with a young person on a motor bik...      28  \n",
       "781998  a man in a red shirt and a red hat is on a mot...      18  "
      ]
     },
     "execution_count": 11,
     "metadata": {},
     "output_type": "execute_result"
    }
   ],
   "source": [
    "df.head()"
   ]
  },
  {
   "cell_type": "code",
   "execution_count": 12,
   "id": "09822a07",
   "metadata": {},
   "outputs": [
    {
     "name": "stderr",
     "output_type": "stream",
     "text": [
      "/var/folders/2t/y5m4cyqs2rl6j_09s0v3tmdh0000gn/T/ipykernel_10381/3539180373.py:2: UserWarning: Ignoring `palette` because no `hue` variable has been assigned.\n",
      "  sns.displot(data=df, x='length', palette='mako', kind='kde', fill=True, aspect=4)\n"
     ]
    },
    {
     "data": {
      "text/plain": [
       "<seaborn.axisgrid.FacetGrid at 0x3570e1390>"
      ]
     },
     "execution_count": 12,
     "metadata": {},
     "output_type": "execute_result"
    },
    {
     "data": {
      "image/png": "[encoded data removed]",
      "text/plain": [
       "<Figure size 2000x500 with 1 Axes>"
      ]
     },
     "metadata": {},
     "output_type": "display_data"
    }
   ],
   "source": [
    "# 단어 개수의 분포 파악\n",
    "sns.displot(data=df, x='length', palette='mako', kind='kde', fill=True, aspect=4)"
   ]
  },
  {
   "cell_type": "code",
   "execution_count": 13,
   "id": "32f844fc",
   "metadata": {},
   "outputs": [
    {
     "data": {
      "text/plain": [
       "{'a': 971343,\n",
       " 'on': 214017,\n",
       " 'of': 201915,\n",
       " 'the': 195875,\n",
       " 'in': 182790,\n",
       " 'with': 153478,\n",
       " 'and': 139608,\n",
       " 'is': 97452,\n",
       " 'man': 73013,\n",
       " 'to': 67397}"
      ]
     },
     "execution_count": 13,
     "metadata": {},
     "output_type": "execute_result"
    }
   ],
   "source": [
    "# 각 단어의 빈도수 파악\n",
    "captions = df['caption'].tolist()\n",
    "\n",
    "word_freq = {}\n",
    "\n",
    "for comment in captions:\n",
    "    comment = comment.strip()\n",
    "    for word in comment.split():\n",
    "        if word not in word_freq:\n",
    "            word_freq[word] = 0\n",
    "        word_freq[word] += 1\n",
    "\n",
    "dict(sorted(word_freq.items(), key=lambda item: item[1], reverse = True)[:10])"
   ]
  },
  {
   "cell_type": "markdown",
   "id": "02fbce5c",
   "metadata": {},
   "source": [
    "### caption으로 단어 사전 만들기 (단순)"
   ]
  },
  {
   "cell_type": "code",
   "execution_count": 14,
   "id": "42a7ac4b",
   "metadata": {},
   "outputs": [
    {
     "data": {
      "text/plain": [
       "['a man with a red helmet on a small moped on a dirt road',\n",
       " 'man riding a motor bike on a dirt road on the countryside',\n",
       " 'a man riding on the back of a motorcycle',\n",
       " 'a dirt path with a young person on a motor bike rests to the foreground of a verdant area with a bridge and a background of cloudwreathed mountains',\n",
       " 'a man in a red shirt and a red hat is on a motorcycle on a hill side']"
      ]
     },
     "execution_count": 14,
     "metadata": {},
     "output_type": "execute_result"
    }
   ],
   "source": [
    "captions[:5]"
   ]
  },
  {
   "cell_type": "code",
   "execution_count": 8,
   "id": "c6fec235",
   "metadata": {},
   "outputs": [],
   "source": [
    "class Vocabulary(object):\n",
    "    def __init__(self):\n",
    "        self.word2idx = {}\n",
    "        self.idx2word = {}\n",
    "        self.idx = 0\n",
    "    \n",
    "    def add_word(self, word):\n",
    "        if not word in self.word2idx:\n",
    "            self.word2idx[word] = self.idx\n",
    "            self.idx2word[self.idx] = word\n",
    "            self.idx += 1\n",
    "        \n",
    "    def __call__(self, word):\n",
    "        if not word in self.word2idx:\n",
    "            return self.word2idx['<unk>']\n",
    "        return self.word2idx[word]\n",
    "    \n",
    "    def __len__(self):\n",
    "        return len(self.word2idx)"
   ]
  },
  {
   "cell_type": "code",
   "execution_count": 10,
   "id": "02eab632",
   "metadata": {},
   "outputs": [],
   "source": [
    "vocab_path = './train_captions_vocab.pkl'\n",
    "vocab = Vocabulary()            # 나오는 단어들을 저장\n",
    "counter = Counter()             # caption들에 나오는 단어 리스트를 구성하고, 해당 단어가 몇번 나오는지 counter에 저장.\n",
    "word_threshold = 3              # 단어가 4번 이상 나오면 vocab에 저장할 예정\n",
    "\n",
    "\n",
    "vocab.add_word('<pad>')         # 문장의 길이를 맞춰주기 위한 토큰(모든 시퀀스를 특정 길이로 맞추기 위해 나머지 부분을 패딩 토큰으로 채움.)\n",
    "vocab.add_word('<start>')       # 문장의 시작\n",
    "vocab.add_word('<end>')         # 문장의 끝\n",
    "vocab.add_word('<unk>')         # 모델이 학습 중에 처음 보는 단어를 나타내는 토큰\n",
    "\n",
    "\n",
    "for i in range(len(captions)):\n",
    "    caption = captions[i]\n",
    "    \n",
    "    tokens = nltk.tokenize.word_tokenize(caption)\n",
    "    counter.update(tokens)\n",
    "    \n",
    "words = [word for word, cnt in counter.items() if cnt >= word_threshold]\n",
    "\n",
    "for word in words:\n",
    "    vocab.add_word(word)\n",
    "\n",
    "with open(vocab_path, 'wb') as f:\n",
    "    pickle.dump(vocab, f)"
   ]
  },
  {
   "cell_type": "code",
   "execution_count": 11,
   "id": "35286438",
   "metadata": {},
   "outputs": [
    {
     "data": {
      "text/plain": [
       "13186"
      ]
     },
     "execution_count": 11,
     "metadata": {},
     "output_type": "execute_result"
    }
   ],
   "source": [
    "len(vocab.word2idx)"
   ]
  },
  {
   "cell_type": "markdown",
   "id": "41c6a567",
   "metadata": {},
   "source": [
    "### bert imbedding vocab 구성"
   ]
  },
  {
   "cell_type": "code",
   "execution_count": null,
   "id": "c4656ea4",
   "metadata": {},
   "outputs": [],
   "source": []
  },
  {
   "cell_type": "markdown",
   "id": "3d8138bb",
   "metadata": {},
   "source": [
    "## Caption to Token"
   ]
  },
  {
   "cell_type": "code",
   "execution_count": 24,
   "id": "ad762d05",
   "metadata": {},
   "outputs": [],
   "source": [
    "# 이미지와 문장들을 묶음\n",
    "class cocoDataset(data.Dataset):\n",
    "    def __init__(self, file_names, captions, vocab, transform=None) :\n",
    "        self.captions = []\n",
    "        self.img_folder = img_folder\n",
    "        \n",
    "        for i in range(len(captions)) :\n",
    "            path = file_names[i]\n",
    "            cap = captions[i]\n",
    "            self.captions.append((path, cap))\n",
    "            \n",
    "        self.vocab = vocab\n",
    "        self.transform = transform\n",
    "    \n",
    "    def __getitem__(self, index):\n",
    "        vocab = self.vocab\n",
    "        path = self.captions[index][0]\n",
    "        caption = self.captions[index][1]\n",
    "        \n",
    "        image = Image.open(os.path.join(self.root, path)).convert('RGB')\n",
    "        if self.tranform is not None:\n",
    "            image = self.transform(image)\n",
    "        \n",
    "        tokens = nltk.tokenize.word_tokenize(caption)\n",
    "        caption2token = []\n",
    "        caption2token.append(vocab('<start>'))\n",
    "        caption2token.extend([vocab(token) for token in tokens])\n",
    "        caption2token.append(vocab('<end>'))\n",
    "        target = torch.Tensor(caption2token)\n",
    "        return image, target\n",
    "    \n",
    "    def __len__(self):\n",
    "        return len(self.captions)"
   ]
  },
  {
   "cell_type": "code",
   "execution_count": null,
   "id": "aeca298d",
   "metadata": {},
   "outputs": [],
   "source": [
    "# dataset이 \n",
    "def collate_fn(data):\n",
    "    # caption 길이로 데이터들 내림차순 정렬\n",
    "    data.sort(key = lambda x: len(x[1]), reverse=True)\n",
    "    images, captions = zip(*data)\n",
    "    \n",
    "    # 리스트 형태의 이미지들을 텐서 하나로 합침.\n",
    "    images = torch.stack(images, 0)\n",
    "    \n",
    "    # 리스트 형태의 캡션들을 텐서 하나로 힙치기\n",
    "    lengths = [len(caption) for caption in captions]\n",
    "    targets = torch.zeros(len(captions), max(lengths)).long()\n",
    "    \n",
    "    # 앞 부분의 내용을 패딩이 아닌 원래 토큰으로 채우기\n",
    "    for i, cap in enumerate(captions):\n",
    "        end = lengths[i]\n",
    "        targets[i, :end] = cap[:end]"
   ]
  }
 ],
 "metadata": {
  "kernelspec": {
   "display_name": "Python 3 (ipykernel)",
   "language": "python",
   "name": "python3"
  },
  "language_info": {
   "codemirror_mode": {
    "name": "ipython",
    "version": 3
   },
   "file_extension": ".py",
   "mimetype": "text/x-python",
   "name": "python",
   "nbconvert_exporter": "python",
   "pygments_lexer": "ipython3",
   "version": "3.11.5"
  }
 },
 "nbformat": 4,
 "nbformat_minor": 5
}
