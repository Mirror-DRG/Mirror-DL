{
 "cells": [
  {
   "cell_type": "code",
   "execution_count": 2,
   "id": "d54771b3",
   "metadata": {
    "ExecuteTime": {
     "end_time": "2024-02-28T09:38:06.588299Z",
     "start_time": "2024-02-28T09:38:04.460372Z"
    }
   },
   "outputs": [
    {
     "name": "stderr",
     "output_type": "stream",
     "text": [
      "[nltk_data] Downloading package punkt to /Users/shin-\n",
      "[nltk_data]     ahreum/nltk_data...\n",
      "[nltk_data]   Package punkt is already up-to-date!\n"
     ]
    }
   ],
   "source": [
    "%matplotlib inline\n",
    "from pycocotools.coco import COCO\n",
    "\n",
    "import pandas as pd\n",
    "\n",
    "# 단어사전 생성\n",
    "from collections import Counter\n",
    "import string\n",
    "import re\n",
    "import nltk\n",
    "nltk.download('punkt')\n",
    "import pickle\n",
    "\n",
    "# torch\n",
    "import torchvision\n",
    "import torch\n",
    "import torch.nn as nn\n",
    "import torchvision.models as models\n",
    "from torch.nn.utils.rnn import pack_padded_sequence\n",
    "import torch.optim as optim\n",
    "import torch.utils.data as data\n",
    "\n",
    "# 시각화\n",
    "import seaborn as sns\n",
    "\n",
    "import numpy as np\n",
    "import random\n",
    "import skimage.io as io\n",
    "\n",
    "import matplotlib\n",
    "import matplotlib.pyplot as plt\n",
    "from matplotlib.patches import Polygon\n",
    "from matplotlib.collections import PatchCollection"
   ]
  },
  {
   "cell_type": "markdown",
   "id": "440fe341",
   "metadata": {},
   "source": [
    "## coco API 초기화"
   ]
  },
  {
   "cell_type": "code",
   "execution_count": 4,
   "id": "045043fa",
   "metadata": {
    "ExecuteTime": {
     "end_time": "2024-02-28T09:39:08.215522Z",
     "start_time": "2024-02-28T09:39:07.886140Z"
    }
   },
   "outputs": [
    {
     "name": "stdout",
     "output_type": "stream",
     "text": [
      "loading annotations into memory...\n",
      "Done (t=0.28s)\n",
      "creating index...\n",
      "index created!\n",
      "loading annotations into memory...\n",
      "Done (t=0.02s)\n",
      "creating index...\n",
      "index created!\n"
     ]
    }
   ],
   "source": [
    "#data_dir='/Users/shin-ahreum/Documents/graduation_project/code/Mirror-DL/rawdataset/coco'\n",
    "data_dir='../../rawdataset/coco'\n",
    "data_type='val2017'\n",
    "\n",
    "# annotation 파일 위치\n",
    "ann_file='{}/annotations/instances_{}.json'.format(data_dir, data_type)\n",
    "coco = COCO(ann_file)           # pycocotools의 coco api 사용하여 annotation 가져오기\n",
    "\n",
    "# caption 파일 위치\n",
    "cap_file='{}/annotations/captions_{}.json'.format(data_dir, data_type)\n",
    "coco_caps = COCO(cap_file)      # pycocotools의 coco api 사용하여 caption 가져오기\n",
    "\n",
    "# 로컬 이미지 저장 경로\n",
    "img_folder='{}/{}'.format(data_dir, data_type)"
   ]
  },
  {
   "cell_type": "markdown",
   "id": "22f02465",
   "metadata": {},
   "source": [
    "## 사용 가능 데이터 분리\n",
    "\n",
    "사용 가능한 이미지 분리해서 필요한 캡션id, 이미지id, 이미지 이름, 캡션 데이터 가져오기"
   ]
  },
  {
   "cell_type": "code",
   "execution_count": 5,
   "id": "41b6ddc1",
   "metadata": {
    "ExecuteTime": {
     "end_time": "2024-02-28T09:39:13.414306Z",
     "start_time": "2024-02-28T09:39:13.400028Z"
    }
   },
   "outputs": [
    {
     "name": "stdout",
     "output_type": "stream",
     "text": [
      "전체 이미지 개수 : 5000\n",
      "사용가능 이미지 개수 : 4952\n",
      "사용불가 이미지 개수 : 48\n"
     ]
    }
   ],
   "source": [
    "all_image_ids = coco.getImgIds()\n",
    "img_ids = [] # 사용할 데이터들 id\n",
    "no_anno_ids = [] # 사용하지 않을 데이터들 id\n",
    "\n",
    "for idx in all_image_ids:\n",
    "    annotations_ids = coco.getAnnIds(imgIds=idx, iscrowd=False)\n",
    "    if len(annotations_ids) == 0 :\n",
    "        no_anno_ids.append(idx)\n",
    "    else :\n",
    "        img_ids.append(idx)\n",
    "        \n",
    "print('전체 이미지 개수 : {}'.format(len(all_image_ids)))\n",
    "print('사용가능 이미지 개수 : {}'.format(len(img_ids)))\n",
    "print('사용불가 이미지 개수 : {}'.format(len(no_anno_ids)))"
   ]
  },
  {
   "cell_type": "code",
   "execution_count": 6,
   "id": "8b2fa134",
   "metadata": {
    "ExecuteTime": {
     "end_time": "2024-02-28T09:39:44.041109Z",
     "start_time": "2024-02-28T09:39:44.024761Z"
    }
   },
   "outputs": [],
   "source": [
    "image_ids = []\n",
    "file_names = []\n",
    "ids = []\n",
    "captions = []\n",
    "\n",
    "for i in range(len(img_ids)) :\n",
    "    ann_ids = coco_caps.getAnnIds(imgIds = img_ids[i])\n",
    "    anns = coco_caps.loadAnns(ann_ids)\n",
    "    \n",
    "    file_name = coco.loadImgs(img_ids[i])[0]['file_name']\n",
    "    \n",
    "    for j in range(len(anns)) :\n",
    "        image_ids.append(anns[j]['image_id'])\n",
    "        file_names.append(file_name)\n",
    "        ids.append(anns[j]['id'])\n",
    "        captions.append(anns[j]['caption'])"
   ]
  },
  {
   "cell_type": "code",
   "execution_count": 7,
   "id": "5efc559b",
   "metadata": {
    "ExecuteTime": {
     "end_time": "2024-02-28T09:39:47.490775Z",
     "start_time": "2024-02-28T09:39:47.478103Z"
    }
   },
   "outputs": [
    {
     "data": {
      "text/plain": "       ann_id  image_id         file_name  \\\n0      370509    397133  000000397133.jpg   \n1      370584    397133  000000397133.jpg   \n2      372252    397133  000000397133.jpg   \n3      372765    397133  000000397133.jpg   \n4      375891    397133  000000397133.jpg   \n...       ...       ...               ...   \n24769  505078     15335  000000015335.jpg   \n24770  505954     15335  000000015335.jpg   \n24771  505978     15335  000000015335.jpg   \n24772  507940     15335  000000015335.jpg   \n24773  509731     15335  000000015335.jpg   \n\n                                                 caption  \n0                   A man is in a kitchen making pizzas.  \n1      Man in apron standing on front of oven with pa...  \n2       A baker is working in the kitchen rolling dough.  \n3             A person standing by a stove in a kitchen.  \n4      A table with pies being made and a person stan...  \n...                                                  ...  \n24769    A group of people sitting at a table with food.  \n24770      A man, woman, and boy are sitting at a table.  \n24771  A man, woman and child eating together at a re...  \n24772           A boy sitting between a man and a woman.  \n24773  a young child, lady , and man sitting in a boo...  \n\n[24774 rows x 4 columns]",
      "text/html": "<div>\n<style scoped>\n    .dataframe tbody tr th:only-of-type {\n        vertical-align: middle;\n    }\n\n    .dataframe tbody tr th {\n        vertical-align: top;\n    }\n\n    .dataframe thead th {\n        text-align: right;\n    }\n</style>\n<table border=\"1\" class=\"dataframe\">\n  <thead>\n    <tr style=\"text-align: right;\">\n      <th></th>\n      <th>ann_id</th>\n      <th>image_id</th>\n      <th>file_name</th>\n      <th>caption</th>\n    </tr>\n  </thead>\n  <tbody>\n    <tr>\n      <th>0</th>\n      <td>370509</td>\n      <td>397133</td>\n      <td>000000397133.jpg</td>\n      <td>A man is in a kitchen making pizzas.</td>\n    </tr>\n    <tr>\n      <th>1</th>\n      <td>370584</td>\n      <td>397133</td>\n      <td>000000397133.jpg</td>\n      <td>Man in apron standing on front of oven with pa...</td>\n    </tr>\n    <tr>\n      <th>2</th>\n      <td>372252</td>\n      <td>397133</td>\n      <td>000000397133.jpg</td>\n      <td>A baker is working in the kitchen rolling dough.</td>\n    </tr>\n    <tr>\n      <th>3</th>\n      <td>372765</td>\n      <td>397133</td>\n      <td>000000397133.jpg</td>\n      <td>A person standing by a stove in a kitchen.</td>\n    </tr>\n    <tr>\n      <th>4</th>\n      <td>375891</td>\n      <td>397133</td>\n      <td>000000397133.jpg</td>\n      <td>A table with pies being made and a person stan...</td>\n    </tr>\n    <tr>\n      <th>...</th>\n      <td>...</td>\n      <td>...</td>\n      <td>...</td>\n      <td>...</td>\n    </tr>\n    <tr>\n      <th>24769</th>\n      <td>505078</td>\n      <td>15335</td>\n      <td>000000015335.jpg</td>\n      <td>A group of people sitting at a table with food.</td>\n    </tr>\n    <tr>\n      <th>24770</th>\n      <td>505954</td>\n      <td>15335</td>\n      <td>000000015335.jpg</td>\n      <td>A man, woman, and boy are sitting at a table.</td>\n    </tr>\n    <tr>\n      <th>24771</th>\n      <td>505978</td>\n      <td>15335</td>\n      <td>000000015335.jpg</td>\n      <td>A man, woman and child eating together at a re...</td>\n    </tr>\n    <tr>\n      <th>24772</th>\n      <td>507940</td>\n      <td>15335</td>\n      <td>000000015335.jpg</td>\n      <td>A boy sitting between a man and a woman.</td>\n    </tr>\n    <tr>\n      <th>24773</th>\n      <td>509731</td>\n      <td>15335</td>\n      <td>000000015335.jpg</td>\n      <td>a young child, lady , and man sitting in a boo...</td>\n    </tr>\n  </tbody>\n</table>\n<p>24774 rows × 4 columns</p>\n</div>"
     },
     "execution_count": 7,
     "metadata": {},
     "output_type": "execute_result"
    }
   ],
   "source": [
    "df = pd.DataFrame({'ann_id':ids, 'image_id':image_ids, 'file_name':file_names, 'caption':captions},\n",
    "    columns = ['ann_id','image_id','file_name','caption'])\n",
    "df"
   ]
  },
  {
   "cell_type": "code",
   "execution_count": 8,
   "id": "f1806116",
   "metadata": {
    "ExecuteTime": {
     "end_time": "2024-02-28T09:39:51.089170Z",
     "start_time": "2024-02-28T09:39:51.081683Z"
    }
   },
   "outputs": [
    {
     "name": "stdout",
     "output_type": "stream",
     "text": [
      "The List is Unique!\n"
     ]
    },
    {
     "data": {
      "text/plain": "True"
     },
     "execution_count": 8,
     "metadata": {},
     "output_type": "execute_result"
    }
   ],
   "source": [
    "def unique(l):\n",
    "    if len(l)==len(set(l)):\n",
    "        print(\"The List is Unique!\")\n",
    "        return True\n",
    "    else:\n",
    "        print(\"The List is Not Unique!\")\n",
    "        return False\n",
    "\n",
    "unique(ids)"
   ]
  },
  {
   "cell_type": "markdown",
   "id": "3c3e0919",
   "metadata": {},
   "source": [
    "## 단어 임베딩 및 사전 구축"
   ]
  },
  {
   "cell_type": "markdown",
   "id": "586b17fc",
   "metadata": {},
   "source": [
    "### 캡션 문장 소문자화 및 특수문자 제거"
   ]
  },
  {
   "cell_type": "code",
   "execution_count": 9,
   "id": "705d7513",
   "metadata": {
    "ExecuteTime": {
     "end_time": "2024-02-28T09:39:56.529818Z",
     "start_time": "2024-02-28T09:39:56.490951Z"
    }
   },
   "outputs": [],
   "source": [
    "regex = re.compile('[%s]' % re.escape(string.punctuation))\n",
    "\n",
    "def clean_text(text):\n",
    "    text = str(text).strip()\n",
    "    text = text.lower()\n",
    "    return regex.sub(\"\", text)\n",
    "\n",
    "df['caption'] = df['caption'].apply(clean_text)\n",
    "df['length'] = df['caption'].apply(lambda row: len(row.strip().split()))"
   ]
  },
  {
   "cell_type": "code",
   "execution_count": 10,
   "id": "ee8a478d",
   "metadata": {
    "ExecuteTime": {
     "end_time": "2024-02-28T09:39:58.315375Z",
     "start_time": "2024-02-28T09:39:58.310197Z"
    }
   },
   "outputs": [
    {
     "data": {
      "text/plain": "   ann_id  image_id         file_name  \\\n0  370509    397133  000000397133.jpg   \n1  370584    397133  000000397133.jpg   \n2  372252    397133  000000397133.jpg   \n3  372765    397133  000000397133.jpg   \n4  375891    397133  000000397133.jpg   \n\n                                             caption  length  \n0                a man is in a kitchen making pizzas       8  \n1  man in apron standing on front of oven with pa...      12  \n2    a baker is working in the kitchen rolling dough       9  \n3          a person standing by a stove in a kitchen       9  \n4  a table with pies being made and a person stan...      21  ",
      "text/html": "<div>\n<style scoped>\n    .dataframe tbody tr th:only-of-type {\n        vertical-align: middle;\n    }\n\n    .dataframe tbody tr th {\n        vertical-align: top;\n    }\n\n    .dataframe thead th {\n        text-align: right;\n    }\n</style>\n<table border=\"1\" class=\"dataframe\">\n  <thead>\n    <tr style=\"text-align: right;\">\n      <th></th>\n      <th>ann_id</th>\n      <th>image_id</th>\n      <th>file_name</th>\n      <th>caption</th>\n      <th>length</th>\n    </tr>\n  </thead>\n  <tbody>\n    <tr>\n      <th>0</th>\n      <td>370509</td>\n      <td>397133</td>\n      <td>000000397133.jpg</td>\n      <td>a man is in a kitchen making pizzas</td>\n      <td>8</td>\n    </tr>\n    <tr>\n      <th>1</th>\n      <td>370584</td>\n      <td>397133</td>\n      <td>000000397133.jpg</td>\n      <td>man in apron standing on front of oven with pa...</td>\n      <td>12</td>\n    </tr>\n    <tr>\n      <th>2</th>\n      <td>372252</td>\n      <td>397133</td>\n      <td>000000397133.jpg</td>\n      <td>a baker is working in the kitchen rolling dough</td>\n      <td>9</td>\n    </tr>\n    <tr>\n      <th>3</th>\n      <td>372765</td>\n      <td>397133</td>\n      <td>000000397133.jpg</td>\n      <td>a person standing by a stove in a kitchen</td>\n      <td>9</td>\n    </tr>\n    <tr>\n      <th>4</th>\n      <td>375891</td>\n      <td>397133</td>\n      <td>000000397133.jpg</td>\n      <td>a table with pies being made and a person stan...</td>\n      <td>21</td>\n    </tr>\n  </tbody>\n</table>\n</div>"
     },
     "execution_count": 10,
     "metadata": {},
     "output_type": "execute_result"
    }
   ],
   "source": [
    "df.head()"
   ]
  },
  {
   "cell_type": "code",
   "execution_count": 11,
   "outputs": [],
   "source": [
    "csv_filename = 'pro_cap_{}.csv'.format(data_type)\n",
    "df.to_csv(csv_filename, index=False)"
   ],
   "metadata": {
    "collapsed": false,
    "ExecuteTime": {
     "end_time": "2024-02-28T09:40:05.983202Z",
     "start_time": "2024-02-28T09:40:05.930240Z"
    }
   },
   "id": "83a4b8eed86d71b"
  },
  {
   "cell_type": "code",
   "execution_count": 10,
   "id": "09822a07",
   "metadata": {
    "ExecuteTime": {
     "end_time": "2024-01-24T09:32:20.051052Z",
     "start_time": "2024-01-24T09:32:19.124347Z"
    }
   },
   "outputs": [
    {
     "name": "stderr",
     "output_type": "stream",
     "text": [
      "/var/folders/2t/y5m4cyqs2rl6j_09s0v3tmdh0000gn/T/ipykernel_7364/2336548994.py:2: UserWarning: Ignoring `palette` because no `hue` variable has been assigned.\n",
      "  sns.displot(data=df, x='length', palette='mako', kind='kde', fill=True, aspect=4)\n"
     ]
    },
    {
     "data": {
      "text/plain": "<seaborn.axisgrid.FacetGrid at 0x355a74150>"
     },
     "execution_count": 10,
     "metadata": {},
     "output_type": "execute_result"
    },
    {
     "data": {
      "text/plain": "<Figure size 2000x500 with 1 Axes>",
      "image/png": "[encoded data removed]"
     },
     "metadata": {},
     "output_type": "display_data"
    }
   ],
   "source": [
    "# 단어 개수의 분포 파악\n",
    "sns.displot(data=df, x='length', palette='mako', kind='kde', fill=True, aspect=4)"
   ]
  },
  {
   "cell_type": "code",
   "execution_count": 11,
   "id": "32f844fc",
   "metadata": {
    "ExecuteTime": {
     "end_time": "2024-01-24T09:32:23.087484Z",
     "start_time": "2024-01-24T09:32:22.321883Z"
    }
   },
   "outputs": [
    {
     "data": {
      "text/plain": "{'a': 971343,\n 'on': 214017,\n 'of': 201915,\n 'the': 195875,\n 'in': 182790,\n 'with': 153478,\n 'and': 139608,\n 'is': 97452,\n 'man': 73013,\n 'to': 67397}"
     },
     "execution_count": 11,
     "metadata": {},
     "output_type": "execute_result"
    }
   ],
   "source": [
    "# 각 단어의 빈도수 파악\n",
    "captions = df['caption'].tolist()\n",
    "\n",
    "word_freq = {}\n",
    "\n",
    "for comment in captions:\n",
    "    comment = comment.strip()\n",
    "    for word in comment.split():\n",
    "        if word not in word_freq:\n",
    "            word_freq[word] = 0\n",
    "        word_freq[word] += 1\n",
    "\n",
    "dict(sorted(word_freq.items(), key=lambda item: item[1], reverse = True)[:10])"
   ]
  },
  {
   "cell_type": "markdown",
   "id": "02fbce5c",
   "metadata": {},
   "source": [
    "### caption으로 단어 사전 만들기 (단순)"
   ]
  },
  {
   "cell_type": "code",
   "execution_count": 12,
   "id": "42a7ac4b",
   "metadata": {
    "ExecuteTime": {
     "end_time": "2024-01-24T09:32:26.157261Z",
     "start_time": "2024-01-24T09:32:26.150855Z"
    }
   },
   "outputs": [
    {
     "data": {
      "text/plain": "['a man with a red helmet on a small moped on a dirt road',\n 'man riding a motor bike on a dirt road on the countryside',\n 'a man riding on the back of a motorcycle',\n 'a dirt path with a young person on a motor bike rests to the foreground of a verdant area with a bridge and a background of cloudwreathed mountains',\n 'a man in a red shirt and a red hat is on a motorcycle on a hill side']"
     },
     "execution_count": 12,
     "metadata": {},
     "output_type": "execute_result"
    }
   ],
   "source": [
    "captions[:5]"
   ]
  },
  {
   "cell_type": "code",
   "execution_count": 13,
   "id": "c6fec235",
   "metadata": {
    "ExecuteTime": {
     "end_time": "2024-01-24T09:32:28.337980Z",
     "start_time": "2024-01-24T09:32:28.333183Z"
    }
   },
   "outputs": [],
   "source": [
    "class Vocabulary(object):\n",
    "    def __init__(self):\n",
    "        self.word2idx = {}\n",
    "        self.idx2word = {}\n",
    "        self.idx = 0\n",
    "    \n",
    "    # word랑 \n",
    "    def add_word(self, word):\n",
    "        if not word in self.word2idx:\n",
    "            self.word2idx[word] = self.idx\n",
    "            self.idx2word[self.idx] = word\n",
    "            self.idx += 1\n",
    "        \n",
    "    def __call__(self, word):\n",
    "        if not word in self.word2idx:\n",
    "            return self.word2idx['<unk>']\n",
    "        return self.word2idx[word]\n",
    "    \n",
    "    def __len__(self):\n",
    "        return len(self.word2idx)"
   ]
  },
  {
   "cell_type": "code",
   "execution_count": 14,
   "id": "02eab632",
   "metadata": {
    "ExecuteTime": {
     "end_time": "2024-01-24T09:32:47.694787Z",
     "start_time": "2024-01-24T09:32:30.509657Z"
    }
   },
   "outputs": [],
   "source": [
    "vocab_path = './train_captions_vocab.pkl'\n",
    "vocab = Vocabulary()            # 나오는 단어들을 저장\n",
    "counter = Counter()             # caption들에 나오는 단어 리스트를 구성하고, 해당 단어가 몇번 나오는지 counter에 저장.\n",
    "word_threshold = 3              # 단어가 4번 이상 나오면 vocab에 저장할 예정\n",
    "\n",
    "\n",
    "vocab.add_word('<pad>')         # 문장의 길이를 맞춰주기 위한 토큰(모든 시퀀스를 특정 길이로 맞추기 위해 나머지 부분을 패딩 토큰으로 채움.)\n",
    "vocab.add_word('<start>')       # 문장의 시작\n",
    "vocab.add_word('<end>')         # 문장의 끝\n",
    "vocab.add_word('<unk>')         # 모델이 학습 중에 처음 보는 단어를 나타내는 토큰\n",
    "\n",
    "\n",
    "for i in range(len(captions)):\n",
    "    caption = captions[i]\n",
    "    \n",
    "    tokens = nltk.tokenize.word_tokenize(caption)\n",
    "    counter.update(tokens)\n",
    "    \n",
    "words = [word for word, cnt in counter.items() if cnt >= word_threshold]\n",
    "\n",
    "for word in words:\n",
    "    vocab.add_word(word)\n",
    "\n",
    "with open(vocab_path, 'wb') as f:\n",
    "    pickle.dump(vocab, f)"
   ]
  },
  {
   "cell_type": "code",
   "execution_count": 11,
   "id": "35286438",
   "metadata": {},
   "outputs": [
    {
     "data": {
      "text/plain": [
       "13186"
      ]
     },
     "execution_count": 11,
     "metadata": {},
     "output_type": "execute_result"
    }
   ],
   "source": [
    "len(vocab.word2idx)"
   ]
  },
  {
   "cell_type": "code",
   "execution_count": 16,
   "outputs": [
    {
     "data": {
      "text/plain": "{'<pad>': 0,\n '<start>': 1,\n '<end>': 2,\n '<unk>': 3,\n 'a': 4,\n 'man': 5,\n 'with': 6,\n 'red': 7,\n 'helmet': 8,\n 'on': 9,\n 'small': 10,\n 'moped': 11,\n 'dirt': 12,\n 'road': 13,\n 'riding': 14,\n 'motor': 15,\n 'bike': 16,\n 'the': 17,\n 'countryside': 18,\n 'back': 19,\n 'of': 20,\n 'motorcycle': 21,\n 'path': 22,\n 'young': 23,\n 'person': 24,\n 'rests': 25,\n 'to': 26,\n 'foreground': 27,\n 'verdant': 28,\n 'area': 29,\n 'bridge': 30,\n 'and': 31,\n 'background': 32,\n 'mountains': 33,\n 'in': 34,\n 'shirt': 35,\n 'hat': 36,\n 'is': 37,\n 'hill': 38,\n 'side': 39,\n 'woman': 40,\n 'wearing': 41,\n 'net': 42,\n 'her': 43,\n 'head': 44,\n 'cutting': 45,\n 'cake': 46,\n 'large': 47,\n 'white': 48,\n 'sheet': 49,\n 'hair': 50,\n 'there': 51,\n 'that': 52,\n 'marking': 53,\n 'chefs': 54,\n 'knife': 55,\n 'child': 56,\n 'holding': 57,\n 'flowered': 58,\n 'umbrella': 59,\n 'petting': 60,\n 'yak': 61,\n 'an': 62,\n 'next': 63,\n 'herd': 64,\n 'cattle': 65,\n 'boy': 66,\n 'barefoot': 67,\n 'touching': 68,\n 'horn': 69,\n 'cow': 70,\n 'who': 71,\n 'while': 72,\n 'standing': 73,\n 'livestock': 74,\n 'front': 75,\n 'computer': 76,\n 'keyboard': 77,\n 'little': 78,\n 'headphones': 79,\n 'looking': 80,\n 'at': 81,\n 'monitor': 82,\n 'he': 83,\n 'listening': 84,\n 'intently': 85,\n 'school': 86,\n 'stares': 87,\n 'up': 88,\n 'kid': 89,\n 'phones': 90,\n 'using': 91,\n 'one': 92,\n 'long': 93,\n 'row': 94,\n 'computers': 95,\n 'earphones': 96,\n 'something': 97,\n 'group': 98,\n 'people': 99,\n 'sitting': 100,\n 'desk': 101,\n 'children': 102,\n 'stations': 103,\n 'table': 104,\n 'plays': 105,\n 'room': 106,\n 'cat': 107,\n 'girl': 108,\n 'smiles': 109,\n 'as': 110,\n 'she': 111,\n 'holds': 112,\n 'wears': 113,\n 'brightly': 114,\n 'colored': 115,\n 'skirt': 116,\n 'kitchen': 117,\n 'working': 118,\n 'carrying': 119,\n 'soft': 120,\n 'toy': 121,\n 'intent': 122,\n 'blowing': 123,\n 'out': 124,\n 'candle': 125,\n 'preparing': 126,\n 'blow': 127,\n 'single': 128,\n 'bowl': 129,\n 'birthday': 130,\n 'goodness': 131,\n 'icecream': 132,\n 'getting': 133,\n 'ready': 134,\n 'dessert': 135,\n 'commercial': 136,\n 'stainless': 137,\n 'pot': 138,\n 'food': 139,\n 'cooking': 140,\n 'some': 141,\n 'sits': 142,\n 'has': 143,\n 'all': 144,\n 'steel': 145,\n 'appliances': 146,\n 'counters': 147,\n 'sink': 148,\n 'many': 149,\n 'machines': 150,\n 'cooks': 151,\n 'stove': 152,\n 'two': 153,\n 'men': 154,\n 'aprons': 155,\n 'professional': 156,\n 'metallic': 157,\n 'style': 158,\n 'around': 159,\n 'prepare': 160,\n 'several': 161,\n 'plates': 162,\n 'shirts': 163,\n 'restaurant': 164,\n 'are': 165,\n 'someone': 166,\n 'ordered': 167,\n 'this': 168,\n 'chef': 169,\n 'pans': 170,\n 'oven': 171,\n 'near': 172,\n 'very': 173,\n 'dark': 174,\n 'picture': 175,\n 'shelf': 176,\n 'cluttered': 177,\n 'wall': 178,\n 'view': 179,\n 'messy': 180,\n 'shelves': 181,\n 'storage': 182,\n 'wood': 183,\n 'walls': 184,\n 'dim': 185,\n 'lit': 186,\n 'consisting': 187,\n 'objects': 188,\n 'put': 189,\n 'together': 190,\n 'filled': 191,\n 'black': 192,\n 'lots': 193,\n 'counter': 194,\n 'top': 195,\n 'space': 196,\n 'brown': 197,\n 'cabinets': 198,\n 'tea': 199,\n 'kettle': 200,\n 'microwave': 201,\n 'glass': 202,\n 'wooden': 203,\n 'modern': 204,\n 'may': 205,\n 'different': 206,\n 'items': 207,\n 'sinks': 208,\n 'toilet': 209,\n 'various': 210,\n 'cleaning': 211,\n 'dish': 212,\n 'washing': 213,\n 'station': 214,\n 'it': 215,\n 'mop': 216,\n 'bucket': 217,\n 'industrial': 218,\n 'bicycle': 219,\n 'train': 220,\n 'but': 221,\n 'guy': 222,\n 'his': 223,\n 'past': 224,\n 'traveling': 225,\n 'along': 226,\n 'tracks': 227,\n 'narrow': 228,\n 'utensils': 229,\n 'galley': 230,\n 'both': 231,\n 'sides': 232,\n 'hallway': 233,\n 'leading': 234,\n 'into': 235,\n 'doorway': 236,\n 'refrigerator': 237,\n 'pantry': 238,\n 'door': 239,\n 'closed': 240,\n 'floors': 241,\n 'furniture': 242,\n 'beautiful': 243,\n 'open': 244,\n 'dining': 245,\n 'features': 246,\n 'island': 247,\n 'center': 248,\n 'windows': 249,\n 'made': 250,\n 'mostly': 251,\n 'laptop': 252,\n 'spacious': 253,\n 'full': 254,\n 'eating': 255,\n 'vegetables': 256,\n 'forks': 257,\n 'mouth': 258,\n 'assortment': 259,\n 'mixed': 260,\n 'eats': 261,\n 'plate': 262,\n 'fresh': 263,\n 'from': 264,\n 'shown': 265,\n 'variety': 266,\n 'plaid': 267,\n 'curtains': 268,\n 'metal': 269,\n 'older': 270,\n 'tops': 271,\n 'empty': 272,\n 'glasses': 273,\n 'bottles': 274,\n 'placed': 275,\n 'performing': 276,\n 'kickflip': 277,\n 'skateboard': 278,\n 'city': 279,\n 'street': 280,\n 'doing': 281,\n 'trick': 282,\n 'jumps': 283,\n 'air': 284,\n 'beneath': 285,\n 'him': 286,\n 'skateboarder': 287,\n 'flipping': 288,\n 'board': 289,\n 'kitchenette': 290,\n 'uses': 291,\n 'great': 292,\n 'efficiency': 293,\n 'image': 294,\n 'setting': 295,\n 'loaded': 296,\n 'pickup': 297,\n 'truck': 298,\n 'number': 299,\n 'things': 300,\n 'crowded': 301,\n 'overloaded': 302,\n 'old': 303,\n 'pick': 304,\n 'over': 305,\n 'cargo': 306,\n 'carries': 307,\n 'amount': 308,\n 'few': 309,\n 'ball': 310,\n 'stick': 311,\n 'spoons': 312,\n 'selection': 313,\n 'tools': 314,\n 'lined': 315,\n 'multiple': 316,\n 'surrounded': 317,\n 'by': 318,\n 'chairs': 319,\n 'laid': 320,\n 'across': 321,\n 'boat': 322,\n 'mean': 323,\n 'wheels': 324,\n 'bunch': 325,\n 'aboard': 326,\n 'being': 327,\n 'rolled': 328,\n 'trailer': 329,\n 'cart': 330,\n 'students': 331,\n 'workstation': 332,\n 'examines': 333,\n 'lap': 334,\n 'hand': 335,\n 'other': 336,\n 'mouse': 337,\n 'use': 338,\n 'coworker': 339,\n 'reading': 340,\n 'material': 341,\n 'elephant': 342,\n 'water': 343,\n 'creek': 344,\n 'forest': 345,\n 'river': 346,\n 'rides': 347,\n 'couple': 348,\n 'women': 349,\n 'home': 350,\n 'dinner': 351,\n 'lights': 352,\n 'huge': 353,\n 'pan': 354,\n 'inside': 355,\n 'granite': 356,\n 'baby': 357,\n 'laying': 358,\n 'down': 359,\n 'teddy': 360,\n 'bear': 361,\n 'crib': 362,\n 'stuffed': 363,\n 'gloves': 364,\n 'lying': 365,\n 'left': 366,\n 'taking': 367,\n 'lays': 368,\n 'beside': 369,\n 'lies': 370,\n 'blue': 371,\n 'green': 372,\n 'bedding': 373,\n 'bikers': 374,\n 'building': 375,\n 'shots': 376,\n 'bicycles': 377,\n 'streets': 378,\n 'tall': 379,\n 'bikes': 380,\n 'photos': 381,\n 'approaching': 382,\n 'bird': 383,\n 'three': 384,\n 'riders': 385,\n 'trees': 386,\n 'pigeon': 387,\n 'coming': 388,\n 'smiling': 389,\n 'colorful': 390,\n 'greets': 391,\n 'bicyclists': 392,\n 'park': 393,\n 'kitten': 394,\n 'fence': 395,\n 'tank': 396,\n 'yard': 397,\n 'yellow': 398,\n 'kitty': 399,\n 'bathroom': 400,\n 'just': 401,\n 'toliet': 402,\n 'section': 403,\n 'lighting': 404,\n 'cabinet': 405,\n 'mirror': 406,\n 'been': 407,\n 'cleaned': 408,\n 'store': 409,\n 'shows': 410,\n 'males': 411,\n 'leaning': 412,\n 'toward': 413,\n 'adjust': 414,\n 'shop': 415,\n 'employee': 416,\n 'helping': 417,\n 'customer': 418,\n 'talking': 419,\n 'about': 420,\n 'shower': 421,\n 'stall': 422,\n 'interesting': 423,\n 'tile': 424,\n 'focal': 425,\n 'point': 426,\n 'perspective': 427,\n 'washroom': 428,\n 'under': 429,\n 'i': 430,\n 'stand': 431,\n 'persons': 432,\n 'reflection': 433,\n 'behind': 434,\n 'mirrored': 435,\n 'corner': 436,\n 'bathtub': 437,\n 'mirrors': 438,\n 'tub': 439,\n 'doors': 440,\n 'beige': 441,\n 'bedroom': 442,\n 'another': 443,\n 'double': 444,\n 'carpeted': 445,\n 'floor': 446,\n 'vanity': 447,\n 'opens': 448,\n 'diamond': 449,\n 'patterned': 450,\n 'onto': 451,\n 'walk': 452,\n 'closet': 453,\n 'walkin': 454,\n 'jacuzzi': 455,\n 'tiled': 456,\n 'adjoining': 457,\n 'flowers': 458,\n 'shot': 459,\n 'includes': 460,\n 'letter': 461,\n 'framed': 462,\n 'potted': 463,\n 'plant': 464,\n 'tissue': 465,\n 'commode': 466,\n 'enclosed': 467,\n 'clean': 468,\n 'featuring': 469,\n 'ride': 470,\n 'busy': 471,\n 'lane': 472,\n 'passing': 473,\n 'burger': 474,\n 'king': 475,\n 'most': 476,\n 'not': 477,\n 'nice': 478,\n 'displayed': 479,\n 'piece': 480,\n 'interior': 481,\n 'scene': 482,\n 'furnishings': 483,\n 'including': 484,\n 'dogs': 485,\n 'they': 486,\n 'restroom': 487,\n 'camera': 488,\n 'currently': 489,\n 'repair': 490,\n 'photograph': 491,\n 'undergoing': 492,\n 'major': 493,\n 'renovations': 494,\n 'process': 495,\n 'remodeling': 496,\n 'remolded': 497,\n 'where': 498,\n 'installed': 499,\n 'construction': 500,\n 'unfinished': 501,\n 'plumbing': 502,\n 'for': 503,\n 'guests': 504,\n 'bath': 505,\n 'standup': 506,\n 'which': 507,\n 'covered': 508,\n 'tiles': 509,\n 'without': 510,\n 'curtain': 511,\n 'faded': 512,\n 'paint': 513,\n 'socket': 514,\n 'no': 515,\n 'panel': 516,\n 'needs': 517,\n 'be': 518,\n 'painted': 519,\n 'dust': 520,\n 'brush': 521,\n 'low': 522,\n 'budget': 523,\n 'rough': 524,\n 'close': 525,\n 'pale': 526,\n 'cement': 527,\n 'broom': 528,\n 'window': 529,\n 'fixtures': 530,\n 'contains': 531,\n 'well': 532,\n 'above': 533,\n 'them': 534,\n 'equipment': 535,\n 'fire': 536,\n 'extinguisher': 537,\n 'photo': 538,\n 'porcelain': 539,\n 'posed': 540,\n 'tan': 541,\n 'flower': 542,\n 'ground': 543,\n 'curb': 544,\n 'house': 545,\n 'lawn': 546,\n 'sidewalk': 547,\n 'outside': 548,\n 'gray': 549,\n 'locked': 550,\n 'chained': 551,\n 'hanging': 552,\n 'median': 553,\n 'lady': 554,\n 'divider': 555,\n 'takes': 556,\n 'public': 557,\n 'big': 558,\n 'flooring': 559,\n 'each': 560,\n 'used': 561,\n 'us': 562,\n 'multicolored': 563,\n 'pedestal': 564,\n 'cars': 565,\n 'driving': 566,\n 'highway': 567,\n 'traffic': 568,\n 'stop': 569,\n 'intersection': 570,\n 'sit': 571,\n 'asia': 572,\n 'taxi': 573,\n 'cabs': 574,\n 'buildings': 575,\n 'heavy': 576,\n 'going': 577,\n 'direction': 578,\n 'stuck': 579,\n 'high': 580,\n 'way': 581,\n 'parking': 582,\n 'late': 583,\n 'evening': 584,\n 'parked': 585,\n 'wires': 586,\n 'break': 587,\n 'glow': 588,\n 'waits': 589,\n 'signs': 590,\n 'opened': 591,\n 'shapped': 592,\n 'like': 593,\n 'mug': 594,\n 'himself': 595,\n 'self': 596,\n 'cell': 597,\n 'phone': 598,\n 'selfie': 599,\n 'bare': 600,\n 'varying': 601,\n 'palette': 602,\n 'neutrals': 603,\n 'awaits': 604,\n 'cabinetry': 605,\n 'meters': 606,\n 'series': 607,\n 'located': 608,\n 'meter': 609,\n 'car': 610,\n 'elegant': 611,\n 'decorations': 612,\n 'fashion': 613,\n 'gold': 614,\n 'feet': 615,\n 'lovely': 616,\n 'claw': 617,\n 'foot': 618,\n 'seen': 619,\n 'stuff': 620,\n 'shelving': 621,\n 'unit': 622,\n 'between': 623,\n 'hygiene': 624,\n 'products': 625,\n 'wrong': 626,\n 'additional': 627,\n 'medicine': 628,\n 'urinal': 629,\n 'mounted': 630,\n 'pair': 631,\n 'tongs': 632,\n 'thing': 633,\n 'glazed': 634,\n 'donut': 635,\n 'rod': 636,\n 'tasty': 637,\n 'treat': 638,\n 'antenna': 639,\n 'orange': 640,\n 'striped': 641,\n 'tabby': 642,\n 'vehicles': 643,\n 'wheel': 644,\n 'fluffy': 645,\n 'tail': 646,\n 'tire': 647,\n 'vehicle': 648,\n 'hiding': 649,\n 'fender': 650,\n 'jetliner': 651,\n 'flying': 652,\n 'airplane': 653,\n 'flies': 654,\n 'sky': 655,\n 'comes': 656,\n 'land': 657,\n 'plane': 658,\n 'silver': 659,\n 'bus': 660,\n 'lot': 661,\n 'parks': 662,\n 'metro': 663,\n 'outdoor': 664,\n 'resting': 665,\n 'playing': 666,\n 'stepping': 667,\n 'playground': 668,\n 'skateboarding': 669,\n 'jacket': 670,\n 'attire': 671,\n 'tie': 672,\n 'eyes': 673,\n 'dressed': 674,\n 'necktie': 675,\n 'nicely': 676,\n 'surfboards': 677,\n 'field': 678,\n 'fashioned': 679,\n 'retro': 680,\n 'light': 681,\n 'wagon': 682,\n 'surfboard': 683,\n 'cop': 684,\n 'police': 685,\n 'officer': 686,\n 'cops': 687,\n 'backpack': 688,\n 'book': 689,\n 'bag': 690,\n 'stone': 691,\n 'walled': 692,\n 'floored': 693,\n 'possibly': 694,\n 'lid': 695,\n 'blurry': 696,\n 'seat': 697,\n 'perched': 698,\n 'was': 699,\n 'position': 700,\n 'revealing': 701,\n 'non': 702,\n 'transparent': 703,\n 'plain': 704,\n 'birds': 705,\n 'church': 706,\n 'spire': 707,\n 'decorative': 708,\n 'roof': 709,\n 'clock': 710,\n 'tower': 711,\n 'towering': 712,\n 'its': 713,\n 'steeple': 714,\n 'fly': 715,\n 'driveway': 716,\n 'license': 717,\n 'luxurious': 718,\n 'hedge': 719,\n 'showing': 720,\n 'container': 721,\n 'crosses': 722,\n 'decorated': 723,\n 'base': 724,\n 'designed': 725,\n 'neck': 726,\n 'shut': 727,\n 'off': 728,\n 'sort': 729,\n 'religious': 730,\n 'object': 731,\n 'shiny': 732,\n 'picking': 733,\n 'bananas': 734,\n 'bunches': 735,\n 'attending': 736,\n 'bundles': 737,\n 'grabbing': 738,\n 'stack': 739,\n 'pile': 740,\n 'sun': 741,\n 'plaque': 742,\n 'middle': 743,\n 'decor': 744,\n 'decoration': 745,\n 'decal': 746,\n 'horses': 747,\n 'grazing': 748,\n 'pasture': 749,\n 'filed': 750,\n 'grass': 751,\n 'horse': 752,\n 'drawn': 753,\n 'carriage': 754,\n 'walking': 755,\n 'pass': 756,\n 'outdoors': 757,\n 'pavement': 758,\n 'discarded': 759,\n 'someones': 760,\n 'display': 761,\n 'crowd': 762,\n 'shopping': 763,\n 'graze': 764,\n 'amid': 765,\n 'snow': 766,\n 'melting': 767,\n 'spot': 768,\n 'estate': 769,\n 'wind': 770,\n 'indicator': 771,\n 'weather': 772,\n 'vane': 773,\n 'clear': 774,\n 'cycle': 775,\n 'tree': 776,\n 'unattended': 777,\n 'roadway': 778,\n 'trash': 779,\n 'can': 780,\n 'compact': 781,\n 'waste': 782,\n 'bin': 783,\n 'toilette': 784,\n 'purple': 785,\n 'brick': 786,\n 'sport': 787,\n 'motorbike': 788,\n 'blur': 789,\n 'against': 790,\n 'office': 791,\n 'works': 792,\n 'motorcycles': 793,\n 'hats': 794,\n 'their': 795,\n 'bowls': 796,\n 'bottle': 797,\n 'cinnamon': 798,\n 'sugar': 799,\n 'cereal': 800,\n 'milk': 801,\n 'desert': 802,\n 'mashed': 803,\n 'oatmeal': 804,\n 'eat': 805,\n 'rows': 806,\n 'helmets': 807,\n 'motorbikes': 808,\n 'line': 809,\n 'set': 810,\n 'makes': 811,\n 'tightly': 812,\n 'columns': 813,\n 'grouped': 814,\n 'ally': 815,\n 'neighborhood': 816,\n 'alley': 817,\n 'lush': 818,\n 'mopeds': 819,\n 'scooter': 820,\n 'hope': 821,\n 'setup': 822,\n 'printers': 823,\n 'printer': 824,\n 'scanner': 825,\n 'extra': 826,\n 'tablet': 827,\n 'overlooking': 828,\n 'closeup': 829,\n 'oneway': 830,\n 'straight': 831,\n 'ahead': 832,\n 'lanes': 833,\n 'heading': 834,\n 'motorized': 835,\n 'scooters': 836,\n 'stopped': 837,\n 'living': 838,\n 'tv': 839,\n 'lamp': 840,\n 'screen': 841,\n 'television': 842,\n 'flat': 843,\n 'surround': 844,\n 'sound': 845,\n 'country': 846,\n 'through': 847,\n 'swiftly': 848,\n 'case': 849,\n 'packed': 850,\n 'boxed': 851,\n 'delivery': 852,\n 'market': 853,\n 'packaged': 854,\n 'boxes': 855,\n 'cardboard': 856,\n 'box': 857,\n 'plastic': 858,\n 'unopened': 859,\n 'perfectly': 860,\n 'ripe': 861,\n 'barrel': 862,\n 'or': 863,\n 'plantains': 864,\n 'piled': 865,\n 'containers': 866,\n 'depicting': 867,\n 'writing': 868,\n 'ticket': 869,\n 'rider': 870,\n 'race': 871,\n 'track': 872,\n 'racetrack': 873,\n 'racer': 874,\n 'performance': 875,\n 'pitcher': 876,\n 'beverage': 877,\n 'slices': 878,\n 'cold': 879,\n 'juice': 880,\n 'beer': 881,\n 'cup': 882,\n 'stands': 883,\n 'containing': 884,\n 'liquid': 885,\n 'sliced': 886,\n 'oranges': 887,\n 'wide': 888,\n 'nearing': 889,\n 'nearby': 890,\n 'electric': 891,\n 'kfc': 892,\n 'facade': 893,\n 'town': 894,\n 'bread': 895,\n 'basket': 896,\n 'basked': 897,\n 'finch': 898,\n 'newspaper': 899,\n 'grey': 900,\n 'wine': 901,\n 'winery': 902,\n 'among': 903,\n 'bench': 904,\n 'entrance': 905,\n 'warped': 906,\n 'cottage': 907,\n 'cabin': 908,\n 'garden': 909,\n 'dog': 910,\n 'watches': 911,\n 'animal': 912,\n 'facing': 913,\n 'away': 914,\n 'watching': 915,\n 'wildlife': 916,\n 'hound': 917,\n 'rug': 918,\n 'advertising': 919,\n 'arizona': 920,\n 'tourism': 921,\n 'airport': 922,\n 'baggage': 923,\n 'claim': 924,\n 'terminal': 925,\n 'displaying': 926,\n 'ad': 927,\n 'jumping': 928,\n 'news': 929,\n 'passes': 930,\n 'find': 931,\n 'taken': 932,\n 'four': 933,\n 'engine': 934,\n 'jet': 935,\n 'transport': 936,\n 'grassy': 937,\n 'jumbo': 938,\n 'landing': 939,\n 'flight': 940,\n 'china': 941,\n 'sign': 942,\n 'runway': 943,\n 'airfield': 944,\n 'safety': 945,\n 'vest': 946,\n 'arms': 947,\n 'giving': 948,\n 'directions': 949,\n 'controller': 950,\n 'directing': 951,\n 'reflective': 952,\n 'gear': 953,\n 'airliner': 954,\n 'sticks': 955,\n 'vintage': 956,\n 'propeller': 957,\n 'planes': 958,\n 'renovated': 959,\n 'propellor': 960,\n 'fighter': 961,\n 'tarmac': 962,\n 'pilot': 963,\n 'war': 964,\n 'type': 965,\n 'taxis': 966,\n 'take': 967,\n 'tarmacs': 968,\n 'towards': 969,\n 'wet': 970,\n 'unloading': 971,\n 'arrival': 972,\n 'gates': 973,\n 'airplanes': 974,\n 'carrier': 975,\n 'regional': 976,\n 'pulls': 977,\n 'gate': 978,\n 'disconnected': 979,\n 'boarding': 980,\n 'passengers': 981,\n 'fancy': 982,\n 'emptied': 983,\n 'plan': 984,\n 'personal': 985,\n 'cross': 986,\n 'pulled': 987,\n 'crossing': 988,\n 'signal': 989,\n 'crosswalk': 990,\n 'night': 991,\n 'appearing': 992,\n 'confusing': 993,\n 'electronic': 994,\n 'glows': 995,\n 'time': 996,\n 'arrows': 997,\n 'stripes': 998,\n 'warplane': 999,\n ...}"
     },
     "execution_count": 16,
     "metadata": {},
     "output_type": "execute_result"
    }
   ],
   "source": [
    "vocab.word2idx"
   ],
   "metadata": {
    "collapsed": false,
    "ExecuteTime": {
     "end_time": "2024-01-24T09:32:55.543963Z",
     "start_time": "2024-01-24T09:32:55.539720Z"
    }
   },
   "id": "8517189ef2336f33"
  },
  {
   "cell_type": "markdown",
   "id": "41c6a567",
   "metadata": {},
   "source": [
    "### bert imbedding vocab 구성"
   ]
  },
  {
   "cell_type": "code",
   "execution_count": null,
   "id": "c4656ea4",
   "metadata": {},
   "outputs": [],
   "source": []
  }
 ],
 "metadata": {
  "kernelspec": {
   "display_name": "Python 3 (ipykernel)",
   "language": "python",
   "name": "python3"
  },
  "language_info": {
   "codemirror_mode": {
    "name": "ipython",
    "version": 3
   },
   "file_extension": ".py",
   "mimetype": "text/x-python",
   "name": "python",
   "nbconvert_exporter": "python",
   "pygments_lexer": "ipython3",
   "version": "3.11.5"
  }
 },
 "nbformat": 4,
 "nbformat_minor": 5
}
