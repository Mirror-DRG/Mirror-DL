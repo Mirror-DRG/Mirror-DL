{
 "cells": [
  {
   "cell_type": "code",
   "execution_count": 1,
   "id": "initial_id",
   "metadata": {
    "ExecuteTime": {
     "end_time": "2024-02-20T23:24:31.379091Z",
     "start_time": "2024-02-20T23:24:25.902526Z"
    }
   },
   "outputs": [],
   "source": [
    "import torch\n",
    "from transformers import BertTokenizer, BertModel\n",
    "\n",
    "import logging\n",
    "\n",
    "import matplotlib.pyplot as plt\n",
    "%matplotlib inline\n",
    "\n",
    "import pandas as pd\n"
   ]
  },
  {
   "cell_type": "markdown",
   "id": "70ef8394fb9e86e0",
   "metadata": {},
   "source": [
    "## 데이터 불러오기 및 캡션데이터 추출하기"
   ]
  },
  {
   "cell_type": "code",
   "execution_count": 2,
   "id": "40143cc8fce6263e",
   "metadata": {
    "ExecuteTime": {
     "end_time": "2024-02-20T23:24:35.049347Z",
     "start_time": "2024-02-20T23:24:34.626275Z"
    }
   },
   "outputs": [
    {
     "name": "stdout",
     "output_type": "stream",
     "text": [
      "586646\n"
     ]
    },
    {
     "data": {
      "text/plain": "   Unnamed: 0  image_id         file_name  \\\n0      770337    391895  000000391895.jpg   \n1      771687    391895  000000391895.jpg   \n2      772707    391895  000000391895.jpg   \n3      776154    391895  000000391895.jpg   \n4      781998    391895  000000391895.jpg   \n\n                                             caption  length  \n0  a man with a red helmet on a small moped on a ...      14  \n1  man riding a motor bike on a dirt road on the ...      12  \n2           a man riding on the back of a motorcycle       9  \n3  a dirt path with a young person on a motor bik...      28  \n4  a man in a red shirt and a red hat is on a mot...      18  ",
      "text/html": "<div>\n<style scoped>\n    .dataframe tbody tr th:only-of-type {\n        vertical-align: middle;\n    }\n\n    .dataframe tbody tr th {\n        vertical-align: top;\n    }\n\n    .dataframe thead th {\n        text-align: right;\n    }\n</style>\n<table border=\"1\" class=\"dataframe\">\n  <thead>\n    <tr style=\"text-align: right;\">\n      <th></th>\n      <th>Unnamed: 0</th>\n      <th>image_id</th>\n      <th>file_name</th>\n      <th>caption</th>\n      <th>length</th>\n    </tr>\n  </thead>\n  <tbody>\n    <tr>\n      <th>0</th>\n      <td>770337</td>\n      <td>391895</td>\n      <td>000000391895.jpg</td>\n      <td>a man with a red helmet on a small moped on a ...</td>\n      <td>14</td>\n    </tr>\n    <tr>\n      <th>1</th>\n      <td>771687</td>\n      <td>391895</td>\n      <td>000000391895.jpg</td>\n      <td>man riding a motor bike on a dirt road on the ...</td>\n      <td>12</td>\n    </tr>\n    <tr>\n      <th>2</th>\n      <td>772707</td>\n      <td>391895</td>\n      <td>000000391895.jpg</td>\n      <td>a man riding on the back of a motorcycle</td>\n      <td>9</td>\n    </tr>\n    <tr>\n      <th>3</th>\n      <td>776154</td>\n      <td>391895</td>\n      <td>000000391895.jpg</td>\n      <td>a dirt path with a young person on a motor bik...</td>\n      <td>28</td>\n    </tr>\n    <tr>\n      <th>4</th>\n      <td>781998</td>\n      <td>391895</td>\n      <td>000000391895.jpg</td>\n      <td>a man in a red shirt and a red hat is on a mot...</td>\n      <td>18</td>\n    </tr>\n  </tbody>\n</table>\n</div>"
     },
     "execution_count": 2,
     "metadata": {},
     "output_type": "execute_result"
    }
   ],
   "source": [
    "data_type = 'train2017'\n",
    "csv_filename = 'pro_cap_{}.csv'.format(data_type)\n",
    "data = pd.read_csv(csv_filename)\n",
    "\n",
    "print(len(data))\n",
    "data.head()"
   ]
  },
  {
   "cell_type": "code",
   "execution_count": 3,
   "id": "c5f6ce503146901c",
   "metadata": {
    "ExecuteTime": {
     "end_time": "2024-02-20T23:24:35.883224Z",
     "start_time": "2024-02-20T23:24:35.879007Z"
    }
   },
   "outputs": [
    {
     "name": "stdout",
     "output_type": "stream",
     "text": [
      "49\n"
     ]
    }
   ],
   "source": [
    "caption = data.caption.to_list()\n",
    "max_length = max(data.length)\n",
    "print(max_length)"
   ]
  },
  {
   "cell_type": "markdown",
   "id": "4c60d0fa696e41f7",
   "metadata": {},
   "source": [
    "## bert 모델 사용하기\n",
    "\n",
    "https://github.com/google-research/bert\n",
    "\n",
    "위 링크 본문에 따르면 bert-base-uncased는 소문자 변환과 accent marks 제거가 된 데이터를\n",
    "12 Layer, 768 hidden, 12 heads, 110M parameters\n",
    "구조로 사전 학습 시켜둔 모델이다."
   ]
  },
  {
   "cell_type": "code",
   "execution_count": 4,
   "id": "8bbe5515436ec2cf",
   "metadata": {
    "ExecuteTime": {
     "end_time": "2024-02-20T23:24:41.653771Z",
     "start_time": "2024-02-20T23:24:38.940818Z"
    }
   },
   "outputs": [
    {
     "data": {
      "text/plain": "tokenizer_config.json:   0%|          | 0.00/48.0 [00:00<?, ?B/s]",
      "application/vnd.jupyter.widget-view+json": {
       "version_major": 2,
       "version_minor": 0,
       "model_id": "d6978cc7585d47bb834f2ef033bf182d"
      }
     },
     "metadata": {},
     "output_type": "display_data"
    }
   ],
   "source": [
    "device = torch.device(\"mps\" if torch.backends.mps.is_available() else \"cpu\")\n",
    "\n",
    "tokenizer = BertTokenizer.from_pretrained(\"bert-base-uncased\")\n",
    "model = BertModel.from_pretrained(\"bert-base-uncased\", output_hidden_states = True).to(device)"
   ]
  },
  {
   "cell_type": "markdown",
   "id": "d48fcc9cdf746f2a",
   "metadata": {},
   "source": [
    "### 문장 하나로 테스트\n",
    "\n",
    "encode_plus : 문장 토큰화 (Token ID, Mask ID, Segment ID)\n",
    "add_special_token : [CLS], [SEP] 토큰 자동 추가 옵션\n",
    "padding : pad 추가 여부 및 방법\n",
    "max_length : 최대 길이 지정\n",
    "\n",
    "< result >\n",
    "input_ids : 토큰 ids\n",
    "token_type_ids : 첫번째 문장의 요소는 0, 두번째 문장의 요소는 1\n",
    "attention_mask : 어떤 단어에 집중해야하는지. 만약 padding이 있다면 해당 위치는 0으로 표현됨."
   ]
  },
  {
   "cell_type": "code",
   "execution_count": 5,
   "id": "2844d20facaf4dd4",
   "metadata": {
    "ExecuteTime": {
     "end_time": "2024-02-20T23:24:44.195559Z",
     "start_time": "2024-02-20T23:24:44.190130Z"
    }
   },
   "outputs": [
    {
     "name": "stderr",
     "output_type": "stream",
     "text": [
      "Keyword arguments {'add_special_token': True} not recognized.\n"
     ]
    },
    {
     "data": {
      "text/plain": "{'input_ids': [101, 2026, 3899, 7777, 2652, 102, 0, 0, 0, 0, 0, 0, 0, 0, 0, 0, 0, 0, 0, 0, 0, 0, 0, 0, 0, 0, 0, 0, 0, 0, 0, 0, 0, 0, 0, 0, 0, 0, 0, 0, 0, 0, 0, 0, 0, 0, 0, 0, 0, 0, 0], 'token_type_ids': [0, 0, 0, 0, 0, 0, 0, 0, 0, 0, 0, 0, 0, 0, 0, 0, 0, 0, 0, 0, 0, 0, 0, 0, 0, 0, 0, 0, 0, 0, 0, 0, 0, 0, 0, 0, 0, 0, 0, 0, 0, 0, 0, 0, 0, 0, 0, 0, 0, 0, 0], 'attention_mask': [1, 1, 1, 1, 1, 1, 0, 0, 0, 0, 0, 0, 0, 0, 0, 0, 0, 0, 0, 0, 0, 0, 0, 0, 0, 0, 0, 0, 0, 0, 0, 0, 0, 0, 0, 0, 0, 0, 0, 0, 0, 0, 0, 0, 0, 0, 0, 0, 0, 0, 0]}"
     },
     "execution_count": 5,
     "metadata": {},
     "output_type": "execute_result"
    }
   ],
   "source": [
    "test_sen = \"my dog likes playing\"\n",
    "tokenizer.encode_plus(test_sen, add_special_token = True, padding = 'max_length', max_length = 51)"
   ]
  },
  {
   "cell_type": "code",
   "execution_count": 6,
   "id": "89ebb9a7a64bb411",
   "metadata": {
    "ExecuteTime": {
     "end_time": "2024-02-20T23:24:56.675127Z",
     "start_time": "2024-02-20T23:24:44.977423Z"
    }
   },
   "outputs": [
    {
     "name": "stderr",
     "output_type": "stream",
     "text": [
      "Keyword arguments {'add_special_token': True} not recognized.\n",
      "Keyword arguments {'add_special_token': True} not recognized.\n"
     ]
    }
   ],
   "source": [
    "test_sen = \"my dog likes playing\"\n",
    "token_ids = tokenizer.encode_plus(test_sen, add_special_token=True, padding = 'max_length', max_length = 51)['input_ids']\n",
    "attention_mask = tokenizer.encode_plus(test_sen, add_special_token=True, padding = 'max_length', max_length = 51)['attention_mask']\n",
    "\n",
    "# 리스트 형태로 반환\n",
    "token_list = tokenizer.convert_ids_to_tokens(token_ids)\n",
    "# str 형태로 반환\n",
    "token_str = tokenizer.decode(token_ids)"
   ]
  },
  {
   "cell_type": "markdown",
   "id": "b89bcc1f2ab4a40f",
   "metadata": {},
   "source": [
    "### tensor 변환 및 모델에 적용\n",
    "\n",
    "Bert 모델은\n",
    "\n",
    "input으로\n",
    "token_id, token_type_ids(문장이 두 개라면), attention_mask를 필요로 하고,\n",
    "\n",
    "output으로\n",
    "1. last_hidden_state(마지막 layer의 hidden state)\n",
    "2. pooler_output(첫번재 토큰 [CLS]의 마지막 hidden state)\n",
    "3. hidden_states(모델의 각 layer의 hidden state 값들)을 출력한다."
   ]
  },
  {
   "cell_type": "code",
   "execution_count": 7,
   "id": "2ca400702fe9912d",
   "metadata": {
    "ExecuteTime": {
     "end_time": "2024-02-20T23:24:56.697471Z",
     "start_time": "2024-02-20T23:24:56.676529Z"
    }
   },
   "outputs": [
    {
     "name": "stdout",
     "output_type": "stream",
     "text": [
      "tensor([[ 101, 2026, 3899, 7777, 2652,  102,    0,    0,    0,    0,    0,    0,\n",
      "            0,    0,    0,    0,    0,    0,    0,    0,    0,    0,    0,    0,\n",
      "            0,    0,    0,    0,    0,    0,    0,    0,    0,    0,    0,    0,\n",
      "            0,    0,    0,    0,    0,    0,    0,    0,    0,    0,    0,    0,\n",
      "            0,    0,    0]], device='mps:0')\n",
      "tensor([[1, 1, 1, 1, 1, 1, 0, 0, 0, 0, 0, 0, 0, 0, 0, 0, 0, 0, 0, 0, 0, 0, 0, 0,\n",
      "         0, 0, 0, 0, 0, 0, 0, 0, 0, 0, 0, 0, 0, 0, 0, 0, 0, 0, 0, 0, 0, 0, 0, 0,\n",
      "         0, 0, 0]], device='mps:0')\n"
     ]
    }
   ],
   "source": [
    "tensor_token_ids = torch.tensor(token_ids).unsqueeze(0).to(device=device)\n",
    "tensor_attention_mask = torch.tensor(attention_mask).unsqueeze(0).to(device=device)\n",
    "\n",
    "print(tensor_token_ids)\n",
    "print(tensor_attention_mask)"
   ]
  },
  {
   "cell_type": "code",
   "execution_count": 8,
   "id": "909d54987be15597",
   "metadata": {
    "ExecuteTime": {
     "end_time": "2024-02-20T23:24:56.964655Z",
     "start_time": "2024-02-20T23:24:56.697315Z"
    }
   },
   "outputs": [],
   "source": [
    "# last_hidden_state, pooler_output, hidden_states 순서로 이루어져 있음.\n",
    "output = model(tensor_token_ids, attention_mask = tensor_attention_mask)"
   ]
  },
  {
   "cell_type": "code",
   "execution_count": 9,
   "id": "d7313a6d3ee1d290",
   "metadata": {
    "ExecuteTime": {
     "end_time": "2024-02-20T23:24:56.971039Z",
     "start_time": "2024-02-20T23:24:56.965742Z"
    }
   },
   "outputs": [
    {
     "name": "stdout",
     "output_type": "stream",
     "text": [
      "torch.Size([1, 51, 768])\n",
      "torch.Size([1, 768])\n",
      "13\n",
      "torch.Size([1, 51, 768])\n"
     ]
    }
   ],
   "source": [
    "print(output.last_hidden_state.shape)\n",
    "print(output.pooler_output.shape)\n",
    "print(len(output.hidden_states))\n",
    "print(output.hidden_states[0].shape)"
   ]
  },
  {
   "cell_type": "code",
   "execution_count": 10,
   "id": "84f7661a7afb1474",
   "metadata": {
    "ExecuteTime": {
     "end_time": "2024-02-20T23:24:59.171568Z",
     "start_time": "2024-02-20T23:24:59.164911Z"
    }
   },
   "outputs": [
    {
     "name": "stdout",
     "output_type": "stream",
     "text": [
      "BERT가 이해하고 있는 token(단어) 개수, hidden_size : Embedding(30522, 768, padding_idx=0)\n",
      "한번에 받을 수 있는 최대 token 수, hidden_size(embedding의 차원) : Embedding(512, 768)\n",
      "한번에 받을 수 있는 최대 문장의 수, hidden_size(embedding의 차원) : Embedding(2, 768)\n"
     ]
    }
   ],
   "source": [
    "print(\"BERT가 이해하고 있는 token(단어) 개수, hidden_size :\", model.embeddings.word_embeddings)\n",
    "print(\"한번에 받을 수 있는 최대 token 수, hidden_size(embedding의 차원) :\", model.embeddings.position_embeddings)\n",
    "print(\"한번에 받을 수 있는 최대 문장의 수, hidden_size(embedding의 차원) :\", model.embeddings.token_type_embeddings)"
   ]
  }
 ],
 "metadata": {
  "kernelspec": {
   "display_name": "Python 3 (ipykernel)",
   "language": "python",
   "name": "python3"
  },
  "language_info": {
   "codemirror_mode": {
    "name": "ipython",
    "version": 3
   },
   "file_extension": ".py",
   "mimetype": "text/x-python",
   "name": "python",
   "nbconvert_exporter": "python",
   "pygments_lexer": "ipython3",
   "version": "3.11.5"
  }
 },
 "nbformat": 4,
 "nbformat_minor": 5
}
